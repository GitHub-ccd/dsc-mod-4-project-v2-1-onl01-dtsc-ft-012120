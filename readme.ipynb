{
 "cells": [
  {
   "cell_type": "markdown",
   "metadata": {},
   "source": [
    "This project entails making movie recommendations via python. The dataset contains 100836 ratings and 3683 tag applications across 9742 movies. These data were created by 610 users between March 29, 1996 and September 24, 2018. The dataset consists of four csv files and a readme text file: links, movies, ratings, and tags with the following parameters:\n",
    "* movies.csv\n",
    "    * (9742, 3) rows/columns\n",
    "    * 'movieId', 'title', 'genres'\n",
    "\n",
    "* ratings.csv\n",
    "    * (100836, 4) rows/columns\n",
    "    * 'userId', 'movieId', 'rating', 'timestamp'\n",
    "\n",
    "* tags.csv\n",
    "    * (3683, 4) rows/columns\n",
    "    * 'userId', 'movieId', 'tag', 'timestamp'\n",
    "\n",
    "* links.csv\n",
    "    * (9742, 3) rows/columns\n",
    "    * 'movieId', 'imdbId', 'tmdbId'\n",
    "    \n",
    "* README.txt\n",
    "    * much like a dictionary\n",
    "    \n",
    "#### Collaborative filtering\n",
    "    * uses historical data on co-purchasing behaviour\n",
    "    * 'users who purchased X also purchased...'\n",
    "\n",
    "#### Content-based recommendation\n",
    "\n",
    "\n",
    "    \n",
    "These are two types of recommender systems all with their advantages and disadvantages:\n",
    "* popularity based system\n",
    "    * can NOT generate personalized recommendations (think of a daily news cycle)\n",
    "    * can use context\n",
    "    * can use user features\n",
    "    * can use purchase history\n",
    "    * is highly scalable \n",
    "    \n",
    "* classification based system\n",
    "    * offers personalized recommendations\n",
    "    * can use context\n",
    "    * can use user features\n",
    "    * can use purchase history\n",
    "    \n",
    "\n",
    "    \n",
    "    \n",
    "\n",
    "The performance metric used to gauge success in this notebook will consist of two primary values: precision & recall via a precision-recall curve of the top recommendations. RMSE (Root Mean Squared Error) "
   ]
  },
  {
   "cell_type": "code",
   "execution_count": null,
   "metadata": {},
   "outputs": [],
   "source": []
  }
 ],
 "metadata": {
  "kernelspec": {
   "display_name": "Python 3",
   "language": "python",
   "name": "python3"
  },
  "language_info": {
   "codemirror_mode": {
    "name": "ipython",
    "version": 3
   },
   "file_extension": ".py",
   "mimetype": "text/x-python",
   "name": "python",
   "nbconvert_exporter": "python",
   "pygments_lexer": "ipython3",
   "version": "3.6.10"
  },
  "latex_envs": {
   "LaTeX_envs_menu_present": true,
   "autoclose": false,
   "autocomplete": true,
   "bibliofile": "biblio.bib",
   "cite_by": "apalike",
   "current_citInitial": 1,
   "eqLabelWithNumbers": true,
   "eqNumInitial": 1,
   "hotkeys": {
    "equation": "Ctrl-E",
    "itemize": "Ctrl-I"
   },
   "labels_anchors": false,
   "latex_user_defs": false,
   "report_style_numbering": false,
   "user_envs_cfg": false
  },
  "toc": {
   "base_numbering": 1,
   "nav_menu": {},
   "number_sections": true,
   "sideBar": true,
   "skip_h1_title": false,
   "title_cell": "Table of Contents",
   "title_sidebar": "Contents",
   "toc_cell": false,
   "toc_position": {},
   "toc_section_display": true,
   "toc_window_display": false
  }
 },
 "nbformat": 4,
 "nbformat_minor": 4
}
